{
  "cells": [
    {
      "cell_type": "code",
      "execution_count": 1,
      "metadata": {
        "jupyter": {
          "outputs_hidden": false,
          "source_hidden": false
        },
        "nteract": {
          "transient": {
            "deleting": false
          }
        }
      },
      "outputs": [
        {
          "name": "stderr",
          "output_type": "stream",
          "text": [
            "C:\\Users\\ekaushik\\AppData\\Local\\Temp\\ipykernel_13756\\3674614120.py:6: DeprecationWarning: \n",
            "Pyarrow will become a required dependency of pandas in the next major release of pandas (pandas 3.0),\n",
            "(to allow more performant data types, such as the Arrow string type, and better interoperability with other libraries)\n",
            "but was not found to be installed on your system.\n",
            "If this would cause problems for you,\n",
            "please provide us feedback at https://github.com/pandas-dev/pandas/issues/54466\n",
            "        \n",
            "  import pandas as pd\n"
          ]
        }
      ],
      "source": [
        "import argparse\n",
        "\n",
        "from pathlib import Path\n",
        "import os\n",
        "import numpy as np\n",
        "import pandas as pd"
      ]
    },
    {
      "cell_type": "code",
      "execution_count": 2,
      "metadata": {},
      "outputs": [],
      "source": [
        "TARGET_COL = \"cost\"\n",
        "\n",
        "NUMERIC_COLS = [\n",
        "    \"distance\",\n",
        "    \"dropoff_latitude\",\n",
        "    \"dropoff_longitude\",\n",
        "    \"passengers\",\n",
        "    \"pickup_latitude\",\n",
        "    \"pickup_longitude\",\n",
        "    \"pickup_weekday\",\n",
        "    \"pickup_month\",\n",
        "    \"pickup_monthday\",\n",
        "    \"pickup_hour\",\n",
        "    \"pickup_minute\",\n",
        "    \"pickup_second\",\n",
        "    \"dropoff_weekday\",\n",
        "    \"dropoff_month\",\n",
        "    \"dropoff_monthday\",\n",
        "    \"dropoff_hour\",\n",
        "    \"dropoff_minute\",\n",
        "    \"dropoff_second\",\n",
        "]\n",
        "\n",
        "CAT_NOM_COLS = [\n",
        "    \"store_forward\",\n",
        "    \"vendor\",\n",
        "]\n",
        "\n",
        "CAT_ORD_COLS = [\n",
        "]"
      ]
    },
    {
      "cell_type": "code",
      "execution_count": 3,
      "metadata": {
        "jupyter": {
          "outputs_hidden": false,
          "source_hidden": false
        },
        "nteract": {
          "transient": {
            "deleting": false
          }
        }
      },
      "outputs": [],
      "source": [
        "class MyArgs:\n",
        "    def __init__(self, /, **kwargs):\n",
        "        self.__dict__.update(kwargs)\n",
        "\n",
        "args = MyArgs(\n",
        "            raw_data = \"../../data/\", \n",
        "            train_data = \"/tmp/prep/train\",\n",
        "            val_data = \"/tmp/prep/val\",\n",
        "            test_data = \"/tmp/prep/test\",\n",
        "            )\n",
        "\n",
        "os.makedirs(args.train_data, exist_ok = True)\n",
        "os.makedirs(args.val_data, exist_ok = True)\n",
        "os.makedirs(args.test_data, exist_ok = True)\n"
      ]
    },
    {
      "cell_type": "code",
      "execution_count": 6,
      "metadata": {},
      "outputs": [
        {
          "name": "stdout",
          "output_type": "stream",
          "text": [
            "Raw data path: None\n",
            "Train dataset output path: None\n",
            "Val dataset output path: None\n",
            "Test dataset path: None\n"
          ]
        },
        {
          "data": {
            "text/html": [
              "You can sync this run to the cloud by running:<br/><code>wandb sync c:\\Users\\ekaushik\\Desktop\\MLOps\\Assignment 1\\wandb\\offline-run-20240403_175814-qjmrryhm<code>"
            ],
            "text/plain": [
              "<IPython.core.display.HTML object>"
            ]
          },
          "metadata": {},
          "output_type": "display_data"
        },
        {
          "data": {
            "text/html": [
              "Find logs at: <code>.\\wandb\\offline-run-20240403_175814-qjmrryhm\\logs</code>"
            ],
            "text/plain": [
              "<IPython.core.display.HTML object>"
            ]
          },
          "metadata": {},
          "output_type": "display_data"
        }
      ],
      "source": [
        "import argparse\n",
        "import os\n",
        "import sys\n",
        "import wandb\n",
        "\n",
        "os.environ[\"WANDB_MODE\"] = \"dryrun\"\n",
        "\n",
        "def main(args):\n",
        "    pass\n",
        "\n",
        "if __name__ == \"__main__\":\n",
        "    if wandb.run is None:\n",
        "        wandb.init()\n",
        "\n",
        "    parser = argparse.ArgumentParser()\n",
        "    parser.add_argument(\"--raw_data\", type=str, help=\"Raw data path\")\n",
        "    parser.add_argument(\"--train_data\", type=str, help=\"Train dataset output path\")\n",
        "    parser.add_argument(\"--val_data\", type=str, help=\"Val dataset output path\")\n",
        "    parser.add_argument(\"--test_data\", type=str, help=\"Test dataset path\")\n",
        "    args, unknown = parser.parse_known_args()\n",
        "\n",
        "    wandb.config.update(args)\n",
        "\n",
        "    lines = [\n",
        "        f\"Raw data path: {args.raw_data}\",\n",
        "        f\"Train dataset output path: {args.train_data}\",\n",
        "        f\"Val dataset output path: {args.val_data}\",\n",
        "        f\"Test dataset path: {args.test_data}\",\n",
        "    ]\n",
        "    for line in lines:\n",
        "        print(line)\n",
        "\n",
        "    main(args)\n",
        "    wandb.finish()\n"
      ]
    },
    {
      "cell_type": "code",
      "execution_count": 7,
      "metadata": {
        "jupyter": {
          "outputs_hidden": false,
          "source_hidden": false
        },
        "nteract": {
          "transient": {
            "deleting": false
          }
        },
        "vscode": {
          "languageId": "shellscript"
        }
      },
      "outputs": [
        {
          "name": "stdout",
          "output_type": "stream",
          "text": [
            " Volume in drive C is OSDisk\n",
            " Volume Serial Number is 2C06-DCE3\n",
            "\n",
            " Directory of c:\\tmp\\prep\\train\n",
            "\n",
            "03-04-2024  17:20    <DIR>          .\n",
            "03-04-2024  17:20    <DIR>          ..\n",
            "               0 File(s)              0 bytes\n",
            "               2 Dir(s)  68,823,920,640 bytes free\n"
          ]
        }
      ],
      "source": [
        "ls \"/tmp/prep/train\" "
      ]
    }
  ],
  "metadata": {
    "kernel_info": {
      "name": "local-env"
    },
    "kernelspec": {
      "display_name": "Python 3.9.6 64-bit",
      "language": "python",
      "name": "python3"
    },
    "language_info": {
      "codemirror_mode": {
        "name": "ipython",
        "version": 3
      },
      "file_extension": ".py",
      "mimetype": "text/x-python",
      "name": "python",
      "nbconvert_exporter": "python",
      "pygments_lexer": "ipython3",
      "version": "3.11.4"
    },
    "nteract": {
      "version": "nteract-front-end@1.0.0"
    },
    "vscode": {
      "interpreter": {
        "hash": "c87d6401964827bd736fe8e727109b953dd698457ca58fb5acabab22fd6dac41"
      }
    }
  },
  "nbformat": 4,
  "nbformat_minor": 0
}
